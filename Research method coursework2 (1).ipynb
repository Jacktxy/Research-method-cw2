{
 "cells": [
  {
   "cell_type": "markdown",
   "id": "154cc6f4-698f-487e-8d04-cc5913f93043",
   "metadata": {},
   "source": [
    "##### Reading CSV file\n",
    "##### Displays basic data information"
   ]
  },
  {
   "cell_type": "code",
   "execution_count": 2,
   "id": "3cecb64e-2996-47de-96c7-b9fa428e3277",
   "metadata": {},
   "outputs": [
    {
     "name": "stdout",
     "output_type": "stream",
     "text": [
      "<class 'pandas.core.frame.DataFrame'>\n",
      "RangeIndex: 72000 entries, 0 to 71999\n",
      "Data columns (total 24 columns):\n",
      " #   Column          Non-Null Count  Dtype  \n",
      "---  ------          --------------  -----  \n",
      " 0   mc_run_id       72000 non-null  int64  \n",
      " 1   grouping        72000 non-null  object \n",
      " 2   mean_ghgs       72000 non-null  float64\n",
      " 3   mean_land       72000 non-null  float64\n",
      " 4   mean_watscar    72000 non-null  float64\n",
      " 5   mean_eut        72000 non-null  float64\n",
      " 6   mean_ghgs_ch4   72000 non-null  float64\n",
      " 7   mean_ghgs_n2o   72000 non-null  float64\n",
      " 8   mean_bio        72000 non-null  float64\n",
      " 9   mean_watuse     72000 non-null  float64\n",
      " 10  mean_acid       72000 non-null  float64\n",
      " 11  sd_ghgs         72000 non-null  float64\n",
      " 12  sd_land         72000 non-null  float64\n",
      " 13  sd_watscar      72000 non-null  float64\n",
      " 14  sd_eut          72000 non-null  float64\n",
      " 15  sd_ghgs_ch4     72000 non-null  float64\n",
      " 16  sd_ghgs_n2o     72000 non-null  float64\n",
      " 17  sd_bio          72000 non-null  float64\n",
      " 18  sd_watuse       72000 non-null  float64\n",
      " 19  sd_acid         72000 non-null  float64\n",
      " 20  n_participants  72000 non-null  int64  \n",
      " 21  sex             72000 non-null  object \n",
      " 22  diet_group      72000 non-null  object \n",
      " 23  age_group       72000 non-null  object \n",
      "dtypes: float64(18), int64(2), object(4)\n",
      "memory usage: 13.2+ MB\n"
     ]
    },
    {
     "data": {
      "text/plain": [
       "(None,\n",
       "    mc_run_id           grouping  mean_ghgs  mean_land  mean_watscar  \\\n",
       " 0          1  fish_female_20-29   5.377071   8.589807   14012.27478   \n",
       " 1          1  fish_female_30-39   5.376457   8.620238   15030.26610   \n",
       " 2          1  fish_female_40-49   5.169838   8.304831   15441.25934   \n",
       " 3          1  fish_female_50-59   4.933744   7.880759   16244.68021   \n",
       " 4          1  fish_female_60-69   5.428442   8.701867   18364.95302   \n",
       " \n",
       "     mean_eut  mean_ghgs_ch4  mean_ghgs_n2o    mean_bio  mean_watuse  ...  \\\n",
       " 0  23.553012       1.165277       0.344528  478.802638   669.154382  ...   \n",
       " 1  23.831419       1.152422       0.326276  469.573862   697.161548  ...   \n",
       " 2  23.419815       1.095640       0.305898  435.534050   687.733569  ...   \n",
       " 3  23.459450       0.995247       0.285800  382.097727   686.763592  ...   \n",
       " 4  25.469176       1.127873       0.315651  435.578230   751.050809  ...   \n",
       " \n",
       "       sd_eut  sd_ghgs_ch4  sd_ghgs_n2o      sd_bio   sd_watuse    sd_acid  \\\n",
       " 0  13.788241     0.913103     0.238819  400.289973  402.372408  13.774998   \n",
       " 1  13.466037     0.845564     0.210539  375.301226  420.147350  13.077207   \n",
       " 2  12.692978     0.773937     0.190561  333.613445  404.151916  12.959012   \n",
       " 3  13.825273     0.669932     0.166206  271.061989  429.965087  13.155250   \n",
       " 4  14.538055     0.907853     0.196968  396.811097  471.376883  14.177048   \n",
       " \n",
       "    n_participants     sex  diet_group  age_group  \n",
       " 0            1329  female        fish      20-29  \n",
       " 1            2024  female        fish      30-39  \n",
       " 2            1689  female        fish      40-49  \n",
       " 3             946  female        fish      50-59  \n",
       " 4             492  female        fish      60-69  \n",
       " \n",
       " [5 rows x 24 columns],\n",
       " mc_run_id         0\n",
       " grouping          0\n",
       " mean_ghgs         0\n",
       " mean_land         0\n",
       " mean_watscar      0\n",
       " mean_eut          0\n",
       " mean_ghgs_ch4     0\n",
       " mean_ghgs_n2o     0\n",
       " mean_bio          0\n",
       " mean_watuse       0\n",
       " mean_acid         0\n",
       " sd_ghgs           0\n",
       " sd_land           0\n",
       " sd_watscar        0\n",
       " sd_eut            0\n",
       " sd_ghgs_ch4       0\n",
       " sd_ghgs_n2o       0\n",
       " sd_bio            0\n",
       " sd_watuse         0\n",
       " sd_acid           0\n",
       " n_participants    0\n",
       " sex               0\n",
       " diet_group        0\n",
       " age_group         0\n",
       " dtype: int64)"
      ]
     },
     "execution_count": 2,
     "metadata": {},
     "output_type": "execute_result"
    }
   ],
   "source": [
    "import os\n",
    "import pandas as pd\n",
    "\n",
    "file_path = os.path.join(\"C:/Users/txy18/Desktop/Research method coursework2/Results_21MAR2022_nokcaladjust.csv\")\n",
    "\n",
    "df = pd.read_csv(file_path)\n",
    "\n",
    "df_info = df.info()\n",
    "df_head = df.head()\n",
    "missing_values = df.isnull().sum()\n",
    "\n",
    "df_info, df_head, missing_values\n"
   ]
  },
  {
   "cell_type": "markdown",
   "id": "e25d4d93-cf79-4af0-a112-ba25b56c892d",
   "metadata": {},
   "source": [
    "##### Read the CSV file correctly\n",
    "##### Delete irrelevant column\n",
    "##### Calculate a new variable: total environmental impact\n",
    "##### Normalized processing"
   ]
  },
  {
   "cell_type": "code",
   "execution_count": 3,
   "id": "4af1e2af-4d7b-4beb-b5bd-4760fcfe1363",
   "metadata": {},
   "outputs": [
    {
     "name": "stdout",
     "output_type": "stream",
     "text": [
      " Data preprocessing complete! \n"
     ]
    }
   ],
   "source": [
    "import pandas as pd\n",
    "from sklearn.preprocessing import MinMaxScaler\n",
    "\n",
    "file_path = \"C:/Users/txy18/Desktop/Research method coursework2/Results_21MAR2022_nokcaladjust.csv\"\n",
    "df = pd.read_csv(file_path)\n",
    "\n",
    "df_cleaned = df.drop(columns=[\"mc_run_id\"], errors=\"ignore\")\n",
    "\n",
    "df_cleaned[\"total_impact\"] = (\n",
    "    df_cleaned[\"mean_ghgs\"] + df_cleaned[\"mean_land\"] + df_cleaned[\"mean_watscar\"] +\n",
    "    df_cleaned[\"mean_eut\"] + df_cleaned[\"mean_ghgs_ch4\"] + df_cleaned[\"mean_ghgs_n2o\"] +\n",
    "    df_cleaned[\"mean_bio\"] + df_cleaned[\"mean_watuse\"] + df_cleaned[\"mean_acid\"]\n",
    ")\n",
    "\n",
    "scaler = MinMaxScaler()\n",
    "columns_to_normalize = [\"mean_ghgs\", \"mean_land\", \"mean_watscar\", \"mean_eut\", \"mean_ghgs_ch4\",\n",
    "                        \"mean_ghgs_n2o\", \"mean_bio\", \"mean_watuse\", \"mean_acid\", \"total_impact\"]\n",
    "\n",
    "df_cleaned[columns_to_normalize] = scaler.fit_transform(df_cleaned[columns_to_normalize])\n",
    "\n",
    "print(\" Data preprocessing complete! \")\n"
   ]
  },
  {
   "cell_type": "markdown",
   "id": "0ccae569-74ee-470b-ad5c-a2d6ba3e1be8",
   "metadata": {},
   "source": [
    "##### Formatted data\n",
    "##### Rename to the specified name"
   ]
  },
  {
   "cell_type": "code",
   "execution_count": 4,
   "id": "252736ad-60f3-40b4-a296-8e8345248f76",
   "metadata": {},
   "outputs": [
    {
     "name": "stdout",
     "output_type": "stream",
     "text": [
      " The CSV file has been saved to: C:\\Users\\txy18\\Desktop\\processed_data.csv\n"
     ]
    }
   ],
   "source": [
    "df_final = df_cleaned.rename(columns={\n",
    "    \"grouping\": \"participant_id\", \n",
    "    \"diet_group\": \"diet_type\",\n",
    "    \"sex\": \"gender\",\n",
    "    \"age_group\": \"age_group\",\n",
    "    \"mean_ghgs\": \"GHG_emissions_kgCO2e\",\n",
    "    \"mean_land\": \"Agricultural_land_use_m2\",\n",
    "    \"mean_watscar\": \"Water_scarcity_impact\",\n",
    "    \"mean_eut\": \"Eutrophication_potential_gPO4e\",\n",
    "    \"mean_ghgs_ch4\": \"Methane_CH4_kg\",\n",
    "    \"mean_ghgs_n2o\": \"Nitrous_oxide_N2O_kg\",\n",
    "    \"mean_bio\": \"Biodiversity_impact\",\n",
    "    \"mean_watuse\": \"Agricultural_water_usage_m3\",\n",
    "    \"mean_acid\": \"Acidification_potential\"\n",
    "})\n",
    "\n",
    "df_final = df_final[[\n",
    "    \"participant_id\", \"diet_type\", \"gender\", \"age_group\",\n",
    "    \"GHG_emissions_kgCO2e\", \"Agricultural_land_use_m2\", \"Water_scarcity_impact\",\n",
    "    \"Eutrophication_potential_gPO4e\", \"Methane_CH4_kg\", \"Nitrous_oxide_N2O_kg\",\n",
    "    \"Biodiversity_impact\", \"Agricultural_water_usage_m3\", \"Acidification_potential\"\n",
    "]]\n",
    "\n",
    "csv_output_path = r\"C:\\Users\\txy18\\Desktop\\processed_data.csv\"\n",
    "df_final.to_csv(csv_output_path, index=False)\n",
    "\n",
    "print(f\" The CSV file has been saved to: {csv_output_path}\")"
   ]
  },
  {
   "cell_type": "code",
   "execution_count": 9,
   "id": "0e7db14c-c09f-486f-b772-13aa60ab578f",
   "metadata": {},
   "outputs": [
    {
     "name": "stdout",
     "output_type": "stream",
     "text": [
      "The actual column names are as follows：\n",
      "['mc_run_id', 'grouping', 'mean_ghgs', 'mean_land', 'mean_watscar', 'mean_eut', 'mean_ghgs_ch4', 'mean_ghgs_n2o', 'mean_bio', 'mean_watuse', 'mean_acid', 'sd_ghgs', 'sd_land', 'sd_watscar', 'sd_eut', 'sd_ghgs_ch4', 'sd_ghgs_n2o', 'sd_bio', 'sd_watuse', 'sd_acid', 'n_participants', 'sex', 'diet_group', 'age_group']\n"
     ]
    }
   ],
   "source": [
    "import pandas as pd\n",
    "\n",
    "file_path = \"Results_21MAR2022_nokcaladjust.csv\"\n",
    "df = pd.read_csv(file_path)\n",
    "\n",
    "print(\"The actual column names are as follows：\")\n",
    "print(df.columns.tolist())"
   ]
  },
  {
   "cell_type": "markdown",
   "id": "96addb0c-fe89-4343-8408-f6dca3852e66",
   "metadata": {},
   "source": [
    "### Treemap"
   ]
  },
  {
   "cell_type": "code",
   "execution_count": 8,
   "id": "b37d7cde-f34a-4d8e-a783-8410537f7f3b",
   "metadata": {},
   "outputs": [
    {
     "data": {
      "application/vnd.plotly.v1+json": {
       "config": {
        "plotlyServerURL": "https://plot.ly"
       },
       "data": [
        {
         "branchvalues": "total",
         "customdata": [
          [
           2323.9125052258296,
           "fish",
           "Acidification_potential"
          ],
          [
           3570.7649458496157,
           "meat",
           "Acidification_potential"
          ],
          [
           6021.9665820220835,
           "meat100",
           "Acidification_potential"
          ],
          [
           2507.248606570503,
           "meat50",
           "Acidification_potential"
          ],
          [
           585.6770209630238,
           "vegan",
           "Acidification_potential"
          ],
          [
           1988.7108994971306,
           "veggie",
           "Acidification_potential"
          ],
          [
           599.1966428689033,
           "fish",
           "Agricultural_land_use_m2"
          ],
          [
           1423.0638782465728,
           "meat",
           "Agricultural_land_use_m2"
          ],
          [
           3344.8298660732216,
           "meat100",
           "Agricultural_land_use_m2"
          ],
          [
           765.7990825842561,
           "meat50",
           "Agricultural_land_use_m2"
          ],
          [
           226.18943764923176,
           "vegan",
           "Agricultural_land_use_m2"
          ],
          [
           547.8225025817424,
           "veggie",
           "Agricultural_land_use_m2"
          ],
          [
           2107.2391503077183,
           "fish",
           "Agricultural_water_usage_m3"
          ],
          [
           2322.30623298158,
           "meat",
           "Agricultural_water_usage_m3"
          ],
          [
           3122.588471358623,
           "meat100",
           "Agricultural_water_usage_m3"
          ],
          [
           1910.5413059900757,
           "meat50",
           "Agricultural_water_usage_m3"
          ],
          [
           856.7932168446105,
           "vegan",
           "Agricultural_water_usage_m3"
          ],
          [
           1345.0299910298668,
           "veggie",
           "Agricultural_water_usage_m3"
          ],
          [
           1428.6465603361007,
           "fish",
           "Biodiversity_impact"
          ],
          [
           1836.4651895545433,
           "meat",
           "Biodiversity_impact"
          ],
          [
           2892.7082540299884,
           "meat100",
           "Biodiversity_impact"
          ],
          [
           1426.9764663435178,
           "meat50",
           "Biodiversity_impact"
          ],
          [
           466.1247057033703,
           "vegan",
           "Biodiversity_impact"
          ],
          [
           1382.771710662424,
           "veggie",
           "Biodiversity_impact"
          ],
          [
           1788.933119953684,
           "fish",
           "Eutrophication_potential_gPO4e"
          ],
          [
           2748.3080419297967,
           "meat",
           "Eutrophication_potential_gPO4e"
          ],
          [
           4769.867913035322,
           "meat100",
           "Eutrophication_potential_gPO4e"
          ],
          [
           1887.0429155442962,
           "meat50",
           "Eutrophication_potential_gPO4e"
          ],
          [
           508.1189256027865,
           "vegan",
           "Eutrophication_potential_gPO4e"
          ],
          [
           1330.6270317415974,
           "veggie",
           "Eutrophication_potential_gPO4e"
          ],
          [
           1796.3332440486029,
           "fish",
           "GHG_emissions_kgCO2e"
          ],
          [
           2965.1069742196773,
           "meat",
           "GHG_emissions_kgCO2e"
          ],
          [
           5640.542724131949,
           "meat100",
           "GHG_emissions_kgCO2e"
          ],
          [
           1944.0647579311021,
           "meat50",
           "GHG_emissions_kgCO2e"
          ],
          [
           431.52295798900735,
           "vegan",
           "GHG_emissions_kgCO2e"
          ],
          [
           1469.6669572234457,
           "veggie",
           "GHG_emissions_kgCO2e"
          ],
          [
           1394.3695657892636,
           "fish",
           "Methane_CH4_kg"
          ],
          [
           2484.700945490217,
           "meat",
           "Methane_CH4_kg"
          ],
          [
           4674.308573078442,
           "meat100",
           "Methane_CH4_kg"
          ],
          [
           1669.6321561863847,
           "meat50",
           "Methane_CH4_kg"
          ],
          [
           132.4915746146264,
           "vegan",
           "Methane_CH4_kg"
          ],
          [
           1241.7312653036988,
           "veggie",
           "Methane_CH4_kg"
          ],
          [
           1518.2349722512668,
           "fish",
           "Nitrous_oxide_N2O_kg"
          ],
          [
           2766.7754237984745,
           "meat",
           "Nitrous_oxide_N2O_kg"
          ],
          [
           5422.680080752535,
           "meat100",
           "Nitrous_oxide_N2O_kg"
          ],
          [
           1733.0961187098762,
           "meat50",
           "Nitrous_oxide_N2O_kg"
          ],
          [
           632.0866302602765,
           "vegan",
           "Nitrous_oxide_N2O_kg"
          ],
          [
           1285.0001437780686,
           "veggie",
           "Nitrous_oxide_N2O_kg"
          ],
          [
           2406.899520024597,
           "fish",
           "Water_scarcity_impact"
          ],
          [
           2532.7492424224097,
           "meat",
           "Water_scarcity_impact"
          ],
          [
           3598.3707818748603,
           "meat100",
           "Water_scarcity_impact"
          ],
          [
           2110.187989075348,
           "meat50",
           "Water_scarcity_impact"
          ],
          [
           1657.3353661926844,
           "vegan",
           "Water_scarcity_impact"
          ],
          [
           2024.111904724566,
           "veggie",
           "Water_scarcity_impact"
          ],
          [
           1868.7253614444815,
           "fish",
           "(?)"
          ],
          [
           2654.711015507652,
           "meat",
           "(?)"
          ],
          [
           4668.283551106681,
           "meat100",
           "(?)"
          ],
          [
           1889.342230297253,
           "meat50",
           "(?)"
          ],
          [
           901.2890737505647,
           "vegan",
           "(?)"
          ],
          [
           1521.69362893473,
           "veggie",
           "(?)"
          ]
         ],
         "domain": {
          "x": [
           0,
           1
          ],
          "y": [
           0,
           1
          ]
         },
         "hovertemplate": "<b>%{label}</b><br>Impact: %{value:.2f}<extra></extra>",
         "ids": [
          "fish/Acidification_potential",
          "meat/Acidification_potential",
          "meat100/Acidification_potential",
          "meat50/Acidification_potential",
          "vegan/Acidification_potential",
          "veggie/Acidification_potential",
          "fish/Agricultural_land_use_m2",
          "meat/Agricultural_land_use_m2",
          "meat100/Agricultural_land_use_m2",
          "meat50/Agricultural_land_use_m2",
          "vegan/Agricultural_land_use_m2",
          "veggie/Agricultural_land_use_m2",
          "fish/Agricultural_water_usage_m3",
          "meat/Agricultural_water_usage_m3",
          "meat100/Agricultural_water_usage_m3",
          "meat50/Agricultural_water_usage_m3",
          "vegan/Agricultural_water_usage_m3",
          "veggie/Agricultural_water_usage_m3",
          "fish/Biodiversity_impact",
          "meat/Biodiversity_impact",
          "meat100/Biodiversity_impact",
          "meat50/Biodiversity_impact",
          "vegan/Biodiversity_impact",
          "veggie/Biodiversity_impact",
          "fish/Eutrophication_potential_gPO4e",
          "meat/Eutrophication_potential_gPO4e",
          "meat100/Eutrophication_potential_gPO4e",
          "meat50/Eutrophication_potential_gPO4e",
          "vegan/Eutrophication_potential_gPO4e",
          "veggie/Eutrophication_potential_gPO4e",
          "fish/GHG_emissions_kgCO2e",
          "meat/GHG_emissions_kgCO2e",
          "meat100/GHG_emissions_kgCO2e",
          "meat50/GHG_emissions_kgCO2e",
          "vegan/GHG_emissions_kgCO2e",
          "veggie/GHG_emissions_kgCO2e",
          "fish/Methane_CH4_kg",
          "meat/Methane_CH4_kg",
          "meat100/Methane_CH4_kg",
          "meat50/Methane_CH4_kg",
          "vegan/Methane_CH4_kg",
          "veggie/Methane_CH4_kg",
          "fish/Nitrous_oxide_N2O_kg",
          "meat/Nitrous_oxide_N2O_kg",
          "meat100/Nitrous_oxide_N2O_kg",
          "meat50/Nitrous_oxide_N2O_kg",
          "vegan/Nitrous_oxide_N2O_kg",
          "veggie/Nitrous_oxide_N2O_kg",
          "fish/Water_scarcity_impact",
          "meat/Water_scarcity_impact",
          "meat100/Water_scarcity_impact",
          "meat50/Water_scarcity_impact",
          "vegan/Water_scarcity_impact",
          "veggie/Water_scarcity_impact",
          "fish",
          "meat",
          "meat100",
          "meat50",
          "vegan",
          "veggie"
         ],
         "labels": [
          "Acidification_potential",
          "Acidification_potential",
          "Acidification_potential",
          "Acidification_potential",
          "Acidification_potential",
          "Acidification_potential",
          "Agricultural_land_use_m2",
          "Agricultural_land_use_m2",
          "Agricultural_land_use_m2",
          "Agricultural_land_use_m2",
          "Agricultural_land_use_m2",
          "Agricultural_land_use_m2",
          "Agricultural_water_usage_m3",
          "Agricultural_water_usage_m3",
          "Agricultural_water_usage_m3",
          "Agricultural_water_usage_m3",
          "Agricultural_water_usage_m3",
          "Agricultural_water_usage_m3",
          "Biodiversity_impact",
          "Biodiversity_impact",
          "Biodiversity_impact",
          "Biodiversity_impact",
          "Biodiversity_impact",
          "Biodiversity_impact",
          "Eutrophication_potential_gPO4e",
          "Eutrophication_potential_gPO4e",
          "Eutrophication_potential_gPO4e",
          "Eutrophication_potential_gPO4e",
          "Eutrophication_potential_gPO4e",
          "Eutrophication_potential_gPO4e",
          "GHG_emissions_kgCO2e",
          "GHG_emissions_kgCO2e",
          "GHG_emissions_kgCO2e",
          "GHG_emissions_kgCO2e",
          "GHG_emissions_kgCO2e",
          "GHG_emissions_kgCO2e",
          "Methane_CH4_kg",
          "Methane_CH4_kg",
          "Methane_CH4_kg",
          "Methane_CH4_kg",
          "Methane_CH4_kg",
          "Methane_CH4_kg",
          "Nitrous_oxide_N2O_kg",
          "Nitrous_oxide_N2O_kg",
          "Nitrous_oxide_N2O_kg",
          "Nitrous_oxide_N2O_kg",
          "Nitrous_oxide_N2O_kg",
          "Nitrous_oxide_N2O_kg",
          "Water_scarcity_impact",
          "Water_scarcity_impact",
          "Water_scarcity_impact",
          "Water_scarcity_impact",
          "Water_scarcity_impact",
          "Water_scarcity_impact",
          "fish",
          "meat",
          "meat100",
          "meat50",
          "vegan",
          "veggie"
         ],
         "marker": {
          "coloraxis": "coloraxis",
          "colors": [
           2323.9125052258296,
           3570.7649458496157,
           6021.9665820220835,
           2507.248606570503,
           585.6770209630238,
           1988.7108994971306,
           599.1966428689033,
           1423.0638782465728,
           3344.8298660732216,
           765.7990825842561,
           226.18943764923176,
           547.8225025817424,
           2107.2391503077183,
           2322.30623298158,
           3122.588471358623,
           1910.5413059900757,
           856.7932168446105,
           1345.0299910298668,
           1428.6465603361007,
           1836.4651895545433,
           2892.7082540299884,
           1426.9764663435178,
           466.1247057033703,
           1382.771710662424,
           1788.933119953684,
           2748.3080419297967,
           4769.867913035322,
           1887.0429155442962,
           508.1189256027865,
           1330.6270317415974,
           1796.3332440486029,
           2965.1069742196773,
           5640.542724131949,
           1944.0647579311021,
           431.52295798900735,
           1469.6669572234457,
           1394.3695657892636,
           2484.700945490217,
           4674.308573078442,
           1669.6321561863847,
           132.4915746146264,
           1241.7312653036988,
           1518.2349722512668,
           2766.7754237984745,
           5422.680080752535,
           1733.0961187098762,
           632.0866302602765,
           1285.0001437780686,
           2406.899520024597,
           2532.7492424224097,
           3598.3707818748603,
           2110.187989075348,
           1657.3353661926844,
           2024.111904724566,
           1868.7253614444815,
           2654.711015507652,
           4668.283551106681,
           1889.342230297253,
           901.2890737505647,
           1521.69362893473
          ]
         },
         "name": "",
         "parents": [
          "fish",
          "meat",
          "meat100",
          "meat50",
          "vegan",
          "veggie",
          "fish",
          "meat",
          "meat100",
          "meat50",
          "vegan",
          "veggie",
          "fish",
          "meat",
          "meat100",
          "meat50",
          "vegan",
          "veggie",
          "fish",
          "meat",
          "meat100",
          "meat50",
          "vegan",
          "veggie",
          "fish",
          "meat",
          "meat100",
          "meat50",
          "vegan",
          "veggie",
          "fish",
          "meat",
          "meat100",
          "meat50",
          "vegan",
          "veggie",
          "fish",
          "meat",
          "meat100",
          "meat50",
          "vegan",
          "veggie",
          "fish",
          "meat",
          "meat100",
          "meat50",
          "vegan",
          "veggie",
          "fish",
          "meat",
          "meat100",
          "meat50",
          "vegan",
          "veggie",
          "",
          "",
          "",
          "",
          "",
          ""
         ],
         "textinfo": "label+value",
         "type": "treemap",
         "values": [
          2323.9125052258296,
          3570.7649458496157,
          6021.9665820220835,
          2507.248606570503,
          585.6770209630238,
          1988.7108994971306,
          599.1966428689033,
          1423.0638782465728,
          3344.8298660732216,
          765.7990825842562,
          226.18943764923176,
          547.8225025817424,
          2107.2391503077183,
          2322.30623298158,
          3122.5884713586233,
          1910.5413059900757,
          856.7932168446105,
          1345.0299910298668,
          1428.6465603361007,
          1836.4651895545433,
          2892.7082540299884,
          1426.9764663435178,
          466.1247057033703,
          1382.771710662424,
          1788.933119953684,
          2748.3080419297967,
          4769.867913035322,
          1887.0429155442962,
          508.1189256027865,
          1330.6270317415974,
          1796.3332440486029,
          2965.106974219677,
          5640.542724131949,
          1944.0647579311021,
          431.52295798900735,
          1469.6669572234457,
          1394.3695657892636,
          2484.700945490217,
          4674.308573078442,
          1669.6321561863847,
          132.4915746146264,
          1241.7312653036988,
          1518.234972251267,
          2766.7754237984745,
          5422.680080752535,
          1733.0961187098762,
          632.0866302602765,
          1285.0001437780686,
          2406.899520024597,
          2532.7492424224097,
          3598.3707818748608,
          2110.187989075348,
          1657.3353661926844,
          2024.111904724566,
          15363.765280805967,
          22650.240874492887,
          39487.863246357025,
          15954.58939893536,
          5496.339835819617,
          12615.47240654254
         ]
        }
       ],
       "layout": {
        "coloraxis": {
         "colorbar": {
          "title": {
           "text": "Impact"
          }
         },
         "colorscale": [
          [
           0,
           "#0d0887"
          ],
          [
           0.1111111111111111,
           "#46039f"
          ],
          [
           0.2222222222222222,
           "#7201a8"
          ],
          [
           0.3333333333333333,
           "#9c179e"
          ],
          [
           0.4444444444444444,
           "#bd3786"
          ],
          [
           0.5555555555555556,
           "#d8576b"
          ],
          [
           0.6666666666666666,
           "#ed7953"
          ],
          [
           0.7777777777777778,
           "#fb9f3a"
          ],
          [
           0.8888888888888888,
           "#fdca26"
          ],
          [
           1,
           "#f0f921"
          ]
         ]
        },
        "height": 400,
        "legend": {
         "tracegroupgap": 0
        },
        "margin": {
         "b": 25,
         "l": 25,
         "r": 25,
         "t": 50
        },
        "template": {
         "data": {
          "bar": [
           {
            "error_x": {
             "color": "#2a3f5f"
            },
            "error_y": {
             "color": "#2a3f5f"
            },
            "marker": {
             "line": {
              "color": "#E5ECF6",
              "width": 0.5
             },
             "pattern": {
              "fillmode": "overlay",
              "size": 10,
              "solidity": 0.2
             }
            },
            "type": "bar"
           }
          ],
          "barpolar": [
           {
            "marker": {
             "line": {
              "color": "#E5ECF6",
              "width": 0.5
             },
             "pattern": {
              "fillmode": "overlay",
              "size": 10,
              "solidity": 0.2
             }
            },
            "type": "barpolar"
           }
          ],
          "carpet": [
           {
            "aaxis": {
             "endlinecolor": "#2a3f5f",
             "gridcolor": "white",
             "linecolor": "white",
             "minorgridcolor": "white",
             "startlinecolor": "#2a3f5f"
            },
            "baxis": {
             "endlinecolor": "#2a3f5f",
             "gridcolor": "white",
             "linecolor": "white",
             "minorgridcolor": "white",
             "startlinecolor": "#2a3f5f"
            },
            "type": "carpet"
           }
          ],
          "choropleth": [
           {
            "colorbar": {
             "outlinewidth": 0,
             "ticks": ""
            },
            "type": "choropleth"
           }
          ],
          "contour": [
           {
            "colorbar": {
             "outlinewidth": 0,
             "ticks": ""
            },
            "colorscale": [
             [
              0,
              "#0d0887"
             ],
             [
              0.1111111111111111,
              "#46039f"
             ],
             [
              0.2222222222222222,
              "#7201a8"
             ],
             [
              0.3333333333333333,
              "#9c179e"
             ],
             [
              0.4444444444444444,
              "#bd3786"
             ],
             [
              0.5555555555555556,
              "#d8576b"
             ],
             [
              0.6666666666666666,
              "#ed7953"
             ],
             [
              0.7777777777777778,
              "#fb9f3a"
             ],
             [
              0.8888888888888888,
              "#fdca26"
             ],
             [
              1,
              "#f0f921"
             ]
            ],
            "type": "contour"
           }
          ],
          "contourcarpet": [
           {
            "colorbar": {
             "outlinewidth": 0,
             "ticks": ""
            },
            "type": "contourcarpet"
           }
          ],
          "heatmap": [
           {
            "colorbar": {
             "outlinewidth": 0,
             "ticks": ""
            },
            "colorscale": [
             [
              0,
              "#0d0887"
             ],
             [
              0.1111111111111111,
              "#46039f"
             ],
             [
              0.2222222222222222,
              "#7201a8"
             ],
             [
              0.3333333333333333,
              "#9c179e"
             ],
             [
              0.4444444444444444,
              "#bd3786"
             ],
             [
              0.5555555555555556,
              "#d8576b"
             ],
             [
              0.6666666666666666,
              "#ed7953"
             ],
             [
              0.7777777777777778,
              "#fb9f3a"
             ],
             [
              0.8888888888888888,
              "#fdca26"
             ],
             [
              1,
              "#f0f921"
             ]
            ],
            "type": "heatmap"
           }
          ],
          "heatmapgl": [
           {
            "colorbar": {
             "outlinewidth": 0,
             "ticks": ""
            },
            "colorscale": [
             [
              0,
              "#0d0887"
             ],
             [
              0.1111111111111111,
              "#46039f"
             ],
             [
              0.2222222222222222,
              "#7201a8"
             ],
             [
              0.3333333333333333,
              "#9c179e"
             ],
             [
              0.4444444444444444,
              "#bd3786"
             ],
             [
              0.5555555555555556,
              "#d8576b"
             ],
             [
              0.6666666666666666,
              "#ed7953"
             ],
             [
              0.7777777777777778,
              "#fb9f3a"
             ],
             [
              0.8888888888888888,
              "#fdca26"
             ],
             [
              1,
              "#f0f921"
             ]
            ],
            "type": "heatmapgl"
           }
          ],
          "histogram": [
           {
            "marker": {
             "pattern": {
              "fillmode": "overlay",
              "size": 10,
              "solidity": 0.2
             }
            },
            "type": "histogram"
           }
          ],
          "histogram2d": [
           {
            "colorbar": {
             "outlinewidth": 0,
             "ticks": ""
            },
            "colorscale": [
             [
              0,
              "#0d0887"
             ],
             [
              0.1111111111111111,
              "#46039f"
             ],
             [
              0.2222222222222222,
              "#7201a8"
             ],
             [
              0.3333333333333333,
              "#9c179e"
             ],
             [
              0.4444444444444444,
              "#bd3786"
             ],
             [
              0.5555555555555556,
              "#d8576b"
             ],
             [
              0.6666666666666666,
              "#ed7953"
             ],
             [
              0.7777777777777778,
              "#fb9f3a"
             ],
             [
              0.8888888888888888,
              "#fdca26"
             ],
             [
              1,
              "#f0f921"
             ]
            ],
            "type": "histogram2d"
           }
          ],
          "histogram2dcontour": [
           {
            "colorbar": {
             "outlinewidth": 0,
             "ticks": ""
            },
            "colorscale": [
             [
              0,
              "#0d0887"
             ],
             [
              0.1111111111111111,
              "#46039f"
             ],
             [
              0.2222222222222222,
              "#7201a8"
             ],
             [
              0.3333333333333333,
              "#9c179e"
             ],
             [
              0.4444444444444444,
              "#bd3786"
             ],
             [
              0.5555555555555556,
              "#d8576b"
             ],
             [
              0.6666666666666666,
              "#ed7953"
             ],
             [
              0.7777777777777778,
              "#fb9f3a"
             ],
             [
              0.8888888888888888,
              "#fdca26"
             ],
             [
              1,
              "#f0f921"
             ]
            ],
            "type": "histogram2dcontour"
           }
          ],
          "mesh3d": [
           {
            "colorbar": {
             "outlinewidth": 0,
             "ticks": ""
            },
            "type": "mesh3d"
           }
          ],
          "parcoords": [
           {
            "line": {
             "colorbar": {
              "outlinewidth": 0,
              "ticks": ""
             }
            },
            "type": "parcoords"
           }
          ],
          "pie": [
           {
            "automargin": true,
            "type": "pie"
           }
          ],
          "scatter": [
           {
            "fillpattern": {
             "fillmode": "overlay",
             "size": 10,
             "solidity": 0.2
            },
            "type": "scatter"
           }
          ],
          "scatter3d": [
           {
            "line": {
             "colorbar": {
              "outlinewidth": 0,
              "ticks": ""
             }
            },
            "marker": {
             "colorbar": {
              "outlinewidth": 0,
              "ticks": ""
             }
            },
            "type": "scatter3d"
           }
          ],
          "scattercarpet": [
           {
            "marker": {
             "colorbar": {
              "outlinewidth": 0,
              "ticks": ""
             }
            },
            "type": "scattercarpet"
           }
          ],
          "scattergeo": [
           {
            "marker": {
             "colorbar": {
              "outlinewidth": 0,
              "ticks": ""
             }
            },
            "type": "scattergeo"
           }
          ],
          "scattergl": [
           {
            "marker": {
             "colorbar": {
              "outlinewidth": 0,
              "ticks": ""
             }
            },
            "type": "scattergl"
           }
          ],
          "scattermapbox": [
           {
            "marker": {
             "colorbar": {
              "outlinewidth": 0,
              "ticks": ""
             }
            },
            "type": "scattermapbox"
           }
          ],
          "scatterpolar": [
           {
            "marker": {
             "colorbar": {
              "outlinewidth": 0,
              "ticks": ""
             }
            },
            "type": "scatterpolar"
           }
          ],
          "scatterpolargl": [
           {
            "marker": {
             "colorbar": {
              "outlinewidth": 0,
              "ticks": ""
             }
            },
            "type": "scatterpolargl"
           }
          ],
          "scatterternary": [
           {
            "marker": {
             "colorbar": {
              "outlinewidth": 0,
              "ticks": ""
             }
            },
            "type": "scatterternary"
           }
          ],
          "surface": [
           {
            "colorbar": {
             "outlinewidth": 0,
             "ticks": ""
            },
            "colorscale": [
             [
              0,
              "#0d0887"
             ],
             [
              0.1111111111111111,
              "#46039f"
             ],
             [
              0.2222222222222222,
              "#7201a8"
             ],
             [
              0.3333333333333333,
              "#9c179e"
             ],
             [
              0.4444444444444444,
              "#bd3786"
             ],
             [
              0.5555555555555556,
              "#d8576b"
             ],
             [
              0.6666666666666666,
              "#ed7953"
             ],
             [
              0.7777777777777778,
              "#fb9f3a"
             ],
             [
              0.8888888888888888,
              "#fdca26"
             ],
             [
              1,
              "#f0f921"
             ]
            ],
            "type": "surface"
           }
          ],
          "table": [
           {
            "cells": {
             "fill": {
              "color": "#EBF0F8"
             },
             "line": {
              "color": "white"
             }
            },
            "header": {
             "fill": {
              "color": "#C8D4E3"
             },
             "line": {
              "color": "white"
             }
            },
            "type": "table"
           }
          ]
         },
         "layout": {
          "annotationdefaults": {
           "arrowcolor": "#2a3f5f",
           "arrowhead": 0,
           "arrowwidth": 1
          },
          "autotypenumbers": "strict",
          "coloraxis": {
           "colorbar": {
            "outlinewidth": 0,
            "ticks": ""
           }
          },
          "colorscale": {
           "diverging": [
            [
             0,
             "#8e0152"
            ],
            [
             0.1,
             "#c51b7d"
            ],
            [
             0.2,
             "#de77ae"
            ],
            [
             0.3,
             "#f1b6da"
            ],
            [
             0.4,
             "#fde0ef"
            ],
            [
             0.5,
             "#f7f7f7"
            ],
            [
             0.6,
             "#e6f5d0"
            ],
            [
             0.7,
             "#b8e186"
            ],
            [
             0.8,
             "#7fbc41"
            ],
            [
             0.9,
             "#4d9221"
            ],
            [
             1,
             "#276419"
            ]
           ],
           "sequential": [
            [
             0,
             "#0d0887"
            ],
            [
             0.1111111111111111,
             "#46039f"
            ],
            [
             0.2222222222222222,
             "#7201a8"
            ],
            [
             0.3333333333333333,
             "#9c179e"
            ],
            [
             0.4444444444444444,
             "#bd3786"
            ],
            [
             0.5555555555555556,
             "#d8576b"
            ],
            [
             0.6666666666666666,
             "#ed7953"
            ],
            [
             0.7777777777777778,
             "#fb9f3a"
            ],
            [
             0.8888888888888888,
             "#fdca26"
            ],
            [
             1,
             "#f0f921"
            ]
           ],
           "sequentialminus": [
            [
             0,
             "#0d0887"
            ],
            [
             0.1111111111111111,
             "#46039f"
            ],
            [
             0.2222222222222222,
             "#7201a8"
            ],
            [
             0.3333333333333333,
             "#9c179e"
            ],
            [
             0.4444444444444444,
             "#bd3786"
            ],
            [
             0.5555555555555556,
             "#d8576b"
            ],
            [
             0.6666666666666666,
             "#ed7953"
            ],
            [
             0.7777777777777778,
             "#fb9f3a"
            ],
            [
             0.8888888888888888,
             "#fdca26"
            ],
            [
             1,
             "#f0f921"
            ]
           ]
          },
          "colorway": [
           "#636efa",
           "#EF553B",
           "#00cc96",
           "#ab63fa",
           "#FFA15A",
           "#19d3f3",
           "#FF6692",
           "#B6E880",
           "#FF97FF",
           "#FECB52"
          ],
          "font": {
           "color": "#2a3f5f"
          },
          "geo": {
           "bgcolor": "white",
           "lakecolor": "white",
           "landcolor": "#E5ECF6",
           "showlakes": true,
           "showland": true,
           "subunitcolor": "white"
          },
          "hoverlabel": {
           "align": "left"
          },
          "hovermode": "closest",
          "mapbox": {
           "style": "light"
          },
          "paper_bgcolor": "white",
          "plot_bgcolor": "#E5ECF6",
          "polar": {
           "angularaxis": {
            "gridcolor": "white",
            "linecolor": "white",
            "ticks": ""
           },
           "bgcolor": "#E5ECF6",
           "radialaxis": {
            "gridcolor": "white",
            "linecolor": "white",
            "ticks": ""
           }
          },
          "scene": {
           "xaxis": {
            "backgroundcolor": "#E5ECF6",
            "gridcolor": "white",
            "gridwidth": 2,
            "linecolor": "white",
            "showbackground": true,
            "ticks": "",
            "zerolinecolor": "white"
           },
           "yaxis": {
            "backgroundcolor": "#E5ECF6",
            "gridcolor": "white",
            "gridwidth": 2,
            "linecolor": "white",
            "showbackground": true,
            "ticks": "",
            "zerolinecolor": "white"
           },
           "zaxis": {
            "backgroundcolor": "#E5ECF6",
            "gridcolor": "white",
            "gridwidth": 2,
            "linecolor": "white",
            "showbackground": true,
            "ticks": "",
            "zerolinecolor": "white"
           }
          },
          "shapedefaults": {
           "line": {
            "color": "#2a3f5f"
           }
          },
          "ternary": {
           "aaxis": {
            "gridcolor": "white",
            "linecolor": "white",
            "ticks": ""
           },
           "baxis": {
            "gridcolor": "white",
            "linecolor": "white",
            "ticks": ""
           },
           "bgcolor": "#E5ECF6",
           "caxis": {
            "gridcolor": "white",
            "linecolor": "white",
            "ticks": ""
           }
          },
          "title": {
           "x": 0.05
          },
          "xaxis": {
           "automargin": true,
           "gridcolor": "white",
           "linecolor": "white",
           "ticks": "",
           "title": {
            "standoff": 15
           },
           "zerolinecolor": "white",
           "zerolinewidth": 2
          },
          "yaxis": {
           "automargin": true,
           "gridcolor": "white",
           "linecolor": "white",
           "ticks": "",
           "title": {
            "standoff": 15
           },
           "zerolinecolor": "white",
           "zerolinewidth": 2
          }
         }
        },
        "title": {
         "font": {
          "size": 22
         },
         "text": "Environmental Impact Treemap by Diet Group and Indicator"
        },
        "uniformtext": {
         "minsize": 10,
         "mode": "show"
        },
        "width": 1000
       }
      },
      "image/png": "[encoded data removed]",
      "text/html": [
       "<div>                            <div id=\"048d1eca-c7f3-4bb8-a9c2-e898d89637a7\" class=\"plotly-graph-div\" style=\"height:400px; width:1000px;\"></div>            <script type=\"text/javascript\">                require([\"plotly\"], function(Plotly) {                    window.PLOTLYENV=window.PLOTLYENV || {};                                    if (document.getElementById(\"048d1eca-c7f3-4bb8-a9c2-e898d89637a7\")) {                    Plotly.newPlot(                        \"048d1eca-c7f3-4bb8-a9c2-e898d89637a7\",                        [{\"branchvalues\":\"total\",\"customdata\":[[2323.9125052258296,\"fish\",\"Acidification_potential\"],[3570.7649458496157,\"meat\",\"Acidification_potential\"],[6021.9665820220835,\"meat100\",\"Acidification_potential\"],[2507.248606570503,\"meat50\",\"Acidification_potential\"],[585.6770209630238,\"vegan\",\"Acidification_potential\"],[1988.7108994971306,\"veggie\",\"Acidification_potential\"],[599.1966428689033,\"fish\",\"Agricultural_land_use_m2\"],[1423.0638782465728,\"meat\",\"Agricultural_land_use_m2\"],[3344.8298660732216,\"meat100\",\"Agricultural_land_use_m2\"],[765.7990825842561,\"meat50\",\"Agricultural_land_use_m2\"],[226.18943764923176,\"vegan\",\"Agricultural_land_use_m2\"],[547.8225025817424,\"veggie\",\"Agricultural_land_use_m2\"],[2107.2391503077183,\"fish\",\"Agricultural_water_usage_m3\"],[2322.30623298158,\"meat\",\"Agricultural_water_usage_m3\"],[3122.588471358623,\"meat100\",\"Agricultural_water_usage_m3\"],[1910.5413059900757,\"meat50\",\"Agricultural_water_usage_m3\"],[856.7932168446105,\"vegan\",\"Agricultural_water_usage_m3\"],[1345.0299910298668,\"veggie\",\"Agricultural_water_usage_m3\"],[1428.6465603361007,\"fish\",\"Biodiversity_impact\"],[1836.4651895545433,\"meat\",\"Biodiversity_impact\"],[2892.7082540299884,\"meat100\",\"Biodiversity_impact\"],[1426.9764663435178,\"meat50\",\"Biodiversity_impact\"],[466.1247057033703,\"vegan\",\"Biodiversity_impact\"],[1382.771710662424,\"veggie\",\"Biodiversity_impact\"],[1788.933119953684,\"fish\",\"Eutrophication_potential_gPO4e\"],[2748.3080419297967,\"meat\",\"Eutrophication_potential_gPO4e\"],[4769.867913035322,\"meat100\",\"Eutrophication_potential_gPO4e\"],[1887.0429155442962,\"meat50\",\"Eutrophication_potential_gPO4e\"],[508.1189256027865,\"vegan\",\"Eutrophication_potential_gPO4e\"],[1330.6270317415974,\"veggie\",\"Eutrophication_potential_gPO4e\"],[1796.3332440486029,\"fish\",\"GHG_emissions_kgCO2e\"],[2965.1069742196773,\"meat\",\"GHG_emissions_kgCO2e\"],[5640.542724131949,\"meat100\",\"GHG_emissions_kgCO2e\"],[1944.0647579311021,\"meat50\",\"GHG_emissions_kgCO2e\"],[431.52295798900735,\"vegan\",\"GHG_emissions_kgCO2e\"],[1469.6669572234457,\"veggie\",\"GHG_emissions_kgCO2e\"],[1394.3695657892636,\"fish\",\"Methane_CH4_kg\"],[2484.700945490217,\"meat\",\"Methane_CH4_kg\"],[4674.308573078442,\"meat100\",\"Methane_CH4_kg\"],[1669.6321561863847,\"meat50\",\"Methane_CH4_kg\"],[132.4915746146264,\"vegan\",\"Methane_CH4_kg\"],[1241.7312653036988,\"veggie\",\"Methane_CH4_kg\"],[1518.2349722512668,\"fish\",\"Nitrous_oxide_N2O_kg\"],[2766.7754237984745,\"meat\",\"Nitrous_oxide_N2O_kg\"],[5422.680080752535,\"meat100\",\"Nitrous_oxide_N2O_kg\"],[1733.0961187098762,\"meat50\",\"Nitrous_oxide_N2O_kg\"],[632.0866302602765,\"vegan\",\"Nitrous_oxide_N2O_kg\"],[1285.0001437780686,\"veggie\",\"Nitrous_oxide_N2O_kg\"],[2406.899520024597,\"fish\",\"Water_scarcity_impact\"],[2532.7492424224097,\"meat\",\"Water_scarcity_impact\"],[3598.3707818748603,\"meat100\",\"Water_scarcity_impact\"],[2110.187989075348,\"meat50\",\"Water_scarcity_impact\"],[1657.3353661926844,\"vegan\",\"Water_scarcity_impact\"],[2024.111904724566,\"veggie\",\"Water_scarcity_impact\"],[1868.7253614444815,\"fish\",\"(?)\"],[2654.711015507652,\"meat\",\"(?)\"],[4668.283551106681,\"meat100\",\"(?)\"],[1889.342230297253,\"meat50\",\"(?)\"],[901.2890737505647,\"vegan\",\"(?)\"],[1521.69362893473,\"veggie\",\"(?)\"]],\"domain\":{\"x\":[0.0,1.0],\"y\":[0.0,1.0]},\"hovertemplate\":\"\\u003cb\\u003e%{label}\\u003c\\u002fb\\u003e\\u003cbr\\u003eImpact: %{value:.2f}\\u003cextra\\u003e\\u003c\\u002fextra\\u003e\",\"ids\":[\"fish\\u002fAcidification_potential\",\"meat\\u002fAcidification_potential\",\"meat100\\u002fAcidification_potential\",\"meat50\\u002fAcidification_potential\",\"vegan\\u002fAcidification_potential\",\"veggie\\u002fAcidification_potential\",\"fish\\u002fAgricultural_land_use_m2\",\"meat\\u002fAgricultural_land_use_m2\",\"meat100\\u002fAgricultural_land_use_m2\",\"meat50\\u002fAgricultural_land_use_m2\",\"vegan\\u002fAgricultural_land_use_m2\",\"veggie\\u002fAgricultural_land_use_m2\",\"fish\\u002fAgricultural_water_usage_m3\",\"meat\\u002fAgricultural_water_usage_m3\",\"meat100\\u002fAgricultural_water_usage_m3\",\"meat50\\u002fAgricultural_water_usage_m3\",\"vegan\\u002fAgricultural_water_usage_m3\",\"veggie\\u002fAgricultural_water_usage_m3\",\"fish\\u002fBiodiversity_impact\",\"meat\\u002fBiodiversity_impact\",\"meat100\\u002fBiodiversity_impact\",\"meat50\\u002fBiodiversity_impact\",\"vegan\\u002fBiodiversity_impact\",\"veggie\\u002fBiodiversity_impact\",\"fish\\u002fEutrophication_potential_gPO4e\",\"meat\\u002fEutrophication_potential_gPO4e\",\"meat100\\u002fEutrophication_potential_gPO4e\",\"meat50\\u002fEutrophication_potential_gPO4e\",\"vegan\\u002fEutrophication_potential_gPO4e\",\"veggie\\u002fEutrophication_potential_gPO4e\",\"fish\\u002fGHG_emissions_kgCO2e\",\"meat\\u002fGHG_emissions_kgCO2e\",\"meat100\\u002fGHG_emissions_kgCO2e\",\"meat50\\u002fGHG_emissions_kgCO2e\",\"vegan\\u002fGHG_emissions_kgCO2e\",\"veggie\\u002fGHG_emissions_kgCO2e\",\"fish\\u002fMethane_CH4_kg\",\"meat\\u002fMethane_CH4_kg\",\"meat100\\u002fMethane_CH4_kg\",\"meat50\\u002fMethane_CH4_kg\",\"vegan\\u002fMethane_CH4_kg\",\"veggie\\u002fMethane_CH4_kg\",\"fish\\u002fNitrous_oxide_N2O_kg\",\"meat\\u002fNitrous_oxide_N2O_kg\",\"meat100\\u002fNitrous_oxide_N2O_kg\",\"meat50\\u002fNitrous_oxide_N2O_kg\",\"vegan\\u002fNitrous_oxide_N2O_kg\",\"veggie\\u002fNitrous_oxide_N2O_kg\",\"fish\\u002fWater_scarcity_impact\",\"meat\\u002fWater_scarcity_impact\",\"meat100\\u002fWater_scarcity_impact\",\"meat50\\u002fWater_scarcity_impact\",\"vegan\\u002fWater_scarcity_impact\",\"veggie\\u002fWater_scarcity_impact\",\"fish\",\"meat\",\"meat100\",\"meat50\",\"vegan\",\"veggie\"],\"labels\":[\"Acidification_potential\",\"Acidification_potential\",\"Acidification_potential\",\"Acidification_potential\",\"Acidification_potential\",\"Acidification_potential\",\"Agricultural_land_use_m2\",\"Agricultural_land_use_m2\",\"Agricultural_land_use_m2\",\"Agricultural_land_use_m2\",\"Agricultural_land_use_m2\",\"Agricultural_land_use_m2\",\"Agricultural_water_usage_m3\",\"Agricultural_water_usage_m3\",\"Agricultural_water_usage_m3\",\"Agricultural_water_usage_m3\",\"Agricultural_water_usage_m3\",\"Agricultural_water_usage_m3\",\"Biodiversity_impact\",\"Biodiversity_impact\",\"Biodiversity_impact\",\"Biodiversity_impact\",\"Biodiversity_impact\",\"Biodiversity_impact\",\"Eutrophication_potential_gPO4e\",\"Eutrophication_potential_gPO4e\",\"Eutrophication_potential_gPO4e\",\"Eutrophication_potential_gPO4e\",\"Eutrophication_potential_gPO4e\",\"Eutrophication_potential_gPO4e\",\"GHG_emissions_kgCO2e\",\"GHG_emissions_kgCO2e\",\"GHG_emissions_kgCO2e\",\"GHG_emissions_kgCO2e\",\"GHG_emissions_kgCO2e\",\"GHG_emissions_kgCO2e\",\"Methane_CH4_kg\",\"Methane_CH4_kg\",\"Methane_CH4_kg\",\"Methane_CH4_kg\",\"Methane_CH4_kg\",\"Methane_CH4_kg\",\"Nitrous_oxide_N2O_kg\",\"Nitrous_oxide_N2O_kg\",\"Nitrous_oxide_N2O_kg\",\"Nitrous_oxide_N2O_kg\",\"Nitrous_oxide_N2O_kg\",\"Nitrous_oxide_N2O_kg\",\"Water_scarcity_impact\",\"Water_scarcity_impact\",\"Water_scarcity_impact\",\"Water_scarcity_impact\",\"Water_scarcity_impact\",\"Water_scarcity_impact\",\"fish\",\"meat\",\"meat100\",\"meat50\",\"vegan\",\"veggie\"],\"marker\":{\"coloraxis\":\"coloraxis\",\"colors\":[2323.9125052258296,3570.7649458496157,6021.9665820220835,2507.248606570503,585.6770209630238,1988.7108994971306,599.1966428689033,1423.0638782465728,3344.8298660732216,765.7990825842561,226.18943764923176,547.8225025817424,2107.2391503077183,2322.30623298158,3122.588471358623,1910.5413059900757,856.7932168446105,1345.0299910298668,1428.6465603361007,1836.4651895545433,2892.7082540299884,1426.9764663435178,466.1247057033703,1382.771710662424,1788.933119953684,2748.3080419297967,4769.867913035322,1887.0429155442962,508.1189256027865,1330.6270317415974,1796.3332440486029,2965.1069742196773,5640.542724131949,1944.0647579311021,431.52295798900735,1469.6669572234457,1394.3695657892636,2484.700945490217,4674.308573078442,1669.6321561863847,132.4915746146264,1241.7312653036988,1518.2349722512668,2766.7754237984745,5422.680080752535,1733.0961187098762,632.0866302602765,1285.0001437780686,2406.899520024597,2532.7492424224097,3598.3707818748603,2110.187989075348,1657.3353661926844,2024.111904724566,1868.7253614444815,2654.711015507652,4668.283551106681,1889.342230297253,901.2890737505647,1521.69362893473]},\"name\":\"\",\"parents\":[\"fish\",\"meat\",\"meat100\",\"meat50\",\"vegan\",\"veggie\",\"fish\",\"meat\",\"meat100\",\"meat50\",\"vegan\",\"veggie\",\"fish\",\"meat\",\"meat100\",\"meat50\",\"vegan\",\"veggie\",\"fish\",\"meat\",\"meat100\",\"meat50\",\"vegan\",\"veggie\",\"fish\",\"meat\",\"meat100\",\"meat50\",\"vegan\",\"veggie\",\"fish\",\"meat\",\"meat100\",\"meat50\",\"vegan\",\"veggie\",\"fish\",\"meat\",\"meat100\",\"meat50\",\"vegan\",\"veggie\",\"fish\",\"meat\",\"meat100\",\"meat50\",\"vegan\",\"veggie\",\"fish\",\"meat\",\"meat100\",\"meat50\",\"vegan\",\"veggie\",\"\",\"\",\"\",\"\",\"\",\"\"],\"values\":[2323.9125052258296,3570.7649458496157,6021.9665820220835,2507.248606570503,585.6770209630238,1988.7108994971306,599.1966428689033,1423.0638782465728,3344.8298660732216,765.7990825842562,226.18943764923176,547.8225025817424,2107.2391503077183,2322.30623298158,3122.5884713586233,1910.5413059900757,856.7932168446105,1345.0299910298668,1428.6465603361007,1836.4651895545433,2892.7082540299884,1426.9764663435178,466.1247057033703,1382.771710662424,1788.933119953684,2748.3080419297967,4769.867913035322,1887.0429155442962,508.1189256027865,1330.6270317415974,1796.3332440486029,2965.106974219677,5640.542724131949,1944.0647579311021,431.52295798900735,1469.6669572234457,1394.3695657892636,2484.700945490217,4674.308573078442,1669.6321561863847,132.4915746146264,1241.7312653036988,1518.234972251267,2766.7754237984745,5422.680080752535,1733.0961187098762,632.0866302602765,1285.0001437780686,2406.899520024597,2532.7492424224097,3598.3707818748608,2110.187989075348,1657.3353661926844,2024.111904724566,15363.765280805967,22650.240874492887,39487.863246357025,15954.58939893536,5496.339835819617,12615.47240654254],\"type\":\"treemap\",\"textinfo\":\"label+value\"}],                        {\"template\":{\"data\":{\"histogram2dcontour\":[{\"type\":\"histogram2dcontour\",\"colorbar\":{\"outlinewidth\":0,\"ticks\":\"\"},\"colorscale\":[[0.0,\"#0d0887\"],[0.1111111111111111,\"#46039f\"],[0.2222222222222222,\"#7201a8\"],[0.3333333333333333,\"#9c179e\"],[0.4444444444444444,\"#bd3786\"],[0.5555555555555556,\"#d8576b\"],[0.6666666666666666,\"#ed7953\"],[0.7777777777777778,\"#fb9f3a\"],[0.8888888888888888,\"#fdca26\"],[1.0,\"#f0f921\"]]}],\"choropleth\":[{\"type\":\"choropleth\",\"colorbar\":{\"outlinewidth\":0,\"ticks\":\"\"}}],\"histogram2d\":[{\"type\":\"histogram2d\",\"colorbar\":{\"outlinewidth\":0,\"ticks\":\"\"},\"colorscale\":[[0.0,\"#0d0887\"],[0.1111111111111111,\"#46039f\"],[0.2222222222222222,\"#7201a8\"],[0.3333333333333333,\"#9c179e\"],[0.4444444444444444,\"#bd3786\"],[0.5555555555555556,\"#d8576b\"],[0.6666666666666666,\"#ed7953\"],[0.7777777777777778,\"#fb9f3a\"],[0.8888888888888888,\"#fdca26\"],[1.0,\"#f0f921\"]]}],\"heatmap\":[{\"type\":\"heatmap\",\"colorbar\":{\"outlinewidth\":0,\"ticks\":\"\"},\"colorscale\":[[0.0,\"#0d0887\"],[0.1111111111111111,\"#46039f\"],[0.2222222222222222,\"#7201a8\"],[0.3333333333333333,\"#9c179e\"],[0.4444444444444444,\"#bd3786\"],[0.5555555555555556,\"#d8576b\"],[0.6666666666666666,\"#ed7953\"],[0.7777777777777778,\"#fb9f3a\"],[0.8888888888888888,\"#fdca26\"],[1.0,\"#f0f921\"]]}],\"heatmapgl\":[{\"type\":\"heatmapgl\",\"colorbar\":{\"outlinewidth\":0,\"ticks\":\"\"},\"colorscale\":[[0.0,\"#0d0887\"],[0.1111111111111111,\"#46039f\"],[0.2222222222222222,\"#7201a8\"],[0.3333333333333333,\"#9c179e\"],[0.4444444444444444,\"#bd3786\"],[0.5555555555555556,\"#d8576b\"],[0.6666666666666666,\"#ed7953\"],[0.7777777777777778,\"#fb9f3a\"],[0.8888888888888888,\"#fdca26\"],[1.0,\"#f0f921\"]]}],\"contourcarpet\":[{\"type\":\"contourcarpet\",\"colorbar\":{\"outlinewidth\":0,\"ticks\":\"\"}}],\"contour\":[{\"type\":\"contour\",\"colorbar\":{\"outlinewidth\":0,\"ticks\":\"\"},\"colorscale\":[[0.0,\"#0d0887\"],[0.1111111111111111,\"#46039f\"],[0.2222222222222222,\"#7201a8\"],[0.3333333333333333,\"#9c179e\"],[0.4444444444444444,\"#bd3786\"],[0.5555555555555556,\"#d8576b\"],[0.6666666666666666,\"#ed7953\"],[0.7777777777777778,\"#fb9f3a\"],[0.8888888888888888,\"#fdca26\"],[1.0,\"#f0f921\"]]}],\"surface\":[{\"type\":\"surface\",\"colorbar\":{\"outlinewidth\":0,\"ticks\":\"\"},\"colorscale\":[[0.0,\"#0d0887\"],[0.1111111111111111,\"#46039f\"],[0.2222222222222222,\"#7201a8\"],[0.3333333333333333,\"#9c179e\"],[0.4444444444444444,\"#bd3786\"],[0.5555555555555556,\"#d8576b\"],[0.6666666666666666,\"#ed7953\"],[0.7777777777777778,\"#fb9f3a\"],[0.8888888888888888,\"#fdca26\"],[1.0,\"#f0f921\"]]}],\"mesh3d\":[{\"type\":\"mesh3d\",\"colorbar\":{\"outlinewidth\":0,\"ticks\":\"\"}}],\"scatter\":[{\"fillpattern\":{\"fillmode\":\"overlay\",\"size\":10,\"solidity\":0.2},\"type\":\"scatter\"}],\"parcoords\":[{\"type\":\"parcoords\",\"line\":{\"colorbar\":{\"outlinewidth\":0,\"ticks\":\"\"}}}],\"scatterpolargl\":[{\"type\":\"scatterpolargl\",\"marker\":{\"colorbar\":{\"outlinewidth\":0,\"ticks\":\"\"}}}],\"bar\":[{\"error_x\":{\"color\":\"#2a3f5f\"},\"error_y\":{\"color\":\"#2a3f5f\"},\"marker\":{\"line\":{\"color\":\"#E5ECF6\",\"width\":0.5},\"pattern\":{\"fillmode\":\"overlay\",\"size\":10,\"solidity\":0.2}},\"type\":\"bar\"}],\"scattergeo\":[{\"type\":\"scattergeo\",\"marker\":{\"colorbar\":{\"outlinewidth\":0,\"ticks\":\"\"}}}],\"scatterpolar\":[{\"type\":\"scatterpolar\",\"marker\":{\"colorbar\":{\"outlinewidth\":0,\"ticks\":\"\"}}}],\"histogram\":[{\"marker\":{\"pattern\":{\"fillmode\":\"overlay\",\"size\":10,\"solidity\":0.2}},\"type\":\"histogram\"}],\"scattergl\":[{\"type\":\"scattergl\",\"marker\":{\"colorbar\":{\"outlinewidth\":0,\"ticks\":\"\"}}}],\"scatter3d\":[{\"type\":\"scatter3d\",\"line\":{\"colorbar\":{\"outlinewidth\":0,\"ticks\":\"\"}},\"marker\":{\"colorbar\":{\"outlinewidth\":0,\"ticks\":\"\"}}}],\"scattermapbox\":[{\"type\":\"scattermapbox\",\"marker\":{\"colorbar\":{\"outlinewidth\":0,\"ticks\":\"\"}}}],\"scatterternary\":[{\"type\":\"scatterternary\",\"marker\":{\"colorbar\":{\"outlinewidth\":0,\"ticks\":\"\"}}}],\"scattercarpet\":[{\"type\":\"scattercarpet\",\"marker\":{\"colorbar\":{\"outlinewidth\":0,\"ticks\":\"\"}}}],\"carpet\":[{\"aaxis\":{\"endlinecolor\":\"#2a3f5f\",\"gridcolor\":\"white\",\"linecolor\":\"white\",\"minorgridcolor\":\"white\",\"startlinecolor\":\"#2a3f5f\"},\"baxis\":{\"endlinecolor\":\"#2a3f5f\",\"gridcolor\":\"white\",\"linecolor\":\"white\",\"minorgridcolor\":\"white\",\"startlinecolor\":\"#2a3f5f\"},\"type\":\"carpet\"}],\"table\":[{\"cells\":{\"fill\":{\"color\":\"#EBF0F8\"},\"line\":{\"color\":\"white\"}},\"header\":{\"fill\":{\"color\":\"#C8D4E3\"},\"line\":{\"color\":\"white\"}},\"type\":\"table\"}],\"barpolar\":[{\"marker\":{\"line\":{\"color\":\"#E5ECF6\",\"width\":0.5},\"pattern\":{\"fillmode\":\"overlay\",\"size\":10,\"solidity\":0.2}},\"type\":\"barpolar\"}],\"pie\":[{\"automargin\":true,\"type\":\"pie\"}]},\"layout\":{\"autotypenumbers\":\"strict\",\"colorway\":[\"#636efa\",\"#EF553B\",\"#00cc96\",\"#ab63fa\",\"#FFA15A\",\"#19d3f3\",\"#FF6692\",\"#B6E880\",\"#FF97FF\",\"#FECB52\"],\"font\":{\"color\":\"#2a3f5f\"},\"hovermode\":\"closest\",\"hoverlabel\":{\"align\":\"left\"},\"paper_bgcolor\":\"white\",\"plot_bgcolor\":\"#E5ECF6\",\"polar\":{\"bgcolor\":\"#E5ECF6\",\"angularaxis\":{\"gridcolor\":\"white\",\"linecolor\":\"white\",\"ticks\":\"\"},\"radialaxis\":{\"gridcolor\":\"white\",\"linecolor\":\"white\",\"ticks\":\"\"}},\"ternary\":{\"bgcolor\":\"#E5ECF6\",\"aaxis\":{\"gridcolor\":\"white\",\"linecolor\":\"white\",\"ticks\":\"\"},\"baxis\":{\"gridcolor\":\"white\",\"linecolor\":\"white\",\"ticks\":\"\"},\"caxis\":{\"gridcolor\":\"white\",\"linecolor\":\"white\",\"ticks\":\"\"}},\"coloraxis\":{\"colorbar\":{\"outlinewidth\":0,\"ticks\":\"\"}},\"colorscale\":{\"sequential\":[[0.0,\"#0d0887\"],[0.1111111111111111,\"#46039f\"],[0.2222222222222222,\"#7201a8\"],[0.3333333333333333,\"#9c179e\"],[0.4444444444444444,\"#bd3786\"],[0.5555555555555556,\"#d8576b\"],[0.6666666666666666,\"#ed7953\"],[0.7777777777777778,\"#fb9f3a\"],[0.8888888888888888,\"#fdca26\"],[1.0,\"#f0f921\"]],\"sequentialminus\":[[0.0,\"#0d0887\"],[0.1111111111111111,\"#46039f\"],[0.2222222222222222,\"#7201a8\"],[0.3333333333333333,\"#9c179e\"],[0.4444444444444444,\"#bd3786\"],[0.5555555555555556,\"#d8576b\"],[0.6666666666666666,\"#ed7953\"],[0.7777777777777778,\"#fb9f3a\"],[0.8888888888888888,\"#fdca26\"],[1.0,\"#f0f921\"]],\"diverging\":[[0,\"#8e0152\"],[0.1,\"#c51b7d\"],[0.2,\"#de77ae\"],[0.3,\"#f1b6da\"],[0.4,\"#fde0ef\"],[0.5,\"#f7f7f7\"],[0.6,\"#e6f5d0\"],[0.7,\"#b8e186\"],[0.8,\"#7fbc41\"],[0.9,\"#4d9221\"],[1,\"#276419\"]]},\"xaxis\":{\"gridcolor\":\"white\",\"linecolor\":\"white\",\"ticks\":\"\",\"title\":{\"standoff\":15},\"zerolinecolor\":\"white\",\"automargin\":true,\"zerolinewidth\":2},\"yaxis\":{\"gridcolor\":\"white\",\"linecolor\":\"white\",\"ticks\":\"\",\"title\":{\"standoff\":15},\"zerolinecolor\":\"white\",\"automargin\":true,\"zerolinewidth\":2},\"scene\":{\"xaxis\":{\"backgroundcolor\":\"#E5ECF6\",\"gridcolor\":\"white\",\"linecolor\":\"white\",\"showbackground\":true,\"ticks\":\"\",\"zerolinecolor\":\"white\",\"gridwidth\":2},\"yaxis\":{\"backgroundcolor\":\"#E5ECF6\",\"gridcolor\":\"white\",\"linecolor\":\"white\",\"showbackground\":true,\"ticks\":\"\",\"zerolinecolor\":\"white\",\"gridwidth\":2},\"zaxis\":{\"backgroundcolor\":\"#E5ECF6\",\"gridcolor\":\"white\",\"linecolor\":\"white\",\"showbackground\":true,\"ticks\":\"\",\"zerolinecolor\":\"white\",\"gridwidth\":2}},\"shapedefaults\":{\"line\":{\"color\":\"#2a3f5f\"}},\"annotationdefaults\":{\"arrowcolor\":\"#2a3f5f\",\"arrowhead\":0,\"arrowwidth\":1},\"geo\":{\"bgcolor\":\"white\",\"landcolor\":\"#E5ECF6\",\"subunitcolor\":\"white\",\"showland\":true,\"showlakes\":true,\"lakecolor\":\"white\"},\"title\":{\"x\":0.05},\"mapbox\":{\"style\":\"light\"}}},\"coloraxis\":{\"colorbar\":{\"title\":{\"text\":\"Impact\"}},\"colorscale\":[[0.0,\"#0d0887\"],[0.1111111111111111,\"#46039f\"],[0.2222222222222222,\"#7201a8\"],[0.3333333333333333,\"#9c179e\"],[0.4444444444444444,\"#bd3786\"],[0.5555555555555556,\"#d8576b\"],[0.6666666666666666,\"#ed7953\"],[0.7777777777777778,\"#fb9f3a\"],[0.8888888888888888,\"#fdca26\"],[1.0,\"#f0f921\"]]},\"legend\":{\"tracegroupgap\":0},\"title\":{\"text\":\"Environmental Impact Treemap by Diet Group and Indicator\",\"font\":{\"size\":22}},\"margin\":{\"t\":50,\"l\":25,\"r\":25,\"b\":25},\"uniformtext\":{\"minsize\":10,\"mode\":\"show\"},\"width\":1000,\"height\":400},                        {\"responsive\": true}                    ).then(function(){\n",
       "                            \n",
       "var gd = document.getElementById('048d1eca-c7f3-4bb8-a9c2-e898d89637a7');\n",
       "var x = new MutationObserver(function (mutations, observer) {{\n",
       "        var display = window.getComputedStyle(gd).display;\n",
       "        if (!display || display === 'none') {{\n",
       "            console.log([gd, 'removed!']);\n",
       "            Plotly.purge(gd);\n",
       "            observer.disconnect();\n",
       "        }}\n",
       "}});\n",
       "\n",
       "// Listen for the removal of the full notebook cells\n",
       "var notebookContainer = gd.closest('#notebook-container');\n",
       "if (notebookContainer) {{\n",
       "    x.observe(notebookContainer, {childList: true});\n",
       "}}\n",
       "\n",
       "// Listen for the clearing of the current output cell\n",
       "var outputEl = gd.closest('.output');\n",
       "if (outputEl) {{\n",
       "    x.observe(outputEl, {childList: true});\n",
       "}}\n",
       "\n",
       "                        })                };                });            </script>        </div>"
      ]
     },
     "metadata": {},
     "output_type": "display_data"
    }
   ],
   "source": [
    "import pandas as pd\n",
    "import plotly.express as px\n",
    "import plotly.io as pio  \n",
    "\n",
    "df = pd.read_csv(\"C:/Users/txy18/Desktop/processed_data.csv\")\n",
    "\n",
    "df_melted = df.melt(\n",
    "    id_vars=[\"diet_type\"],\n",
    "    value_vars=[\n",
    "        \"GHG_emissions_kgCO2e\",\n",
    "        \"Agricultural_land_use_m2\",\n",
    "        \"Water_scarcity_impact\",\n",
    "        \"Eutrophication_potential_gPO4e\",\n",
    "        \"Methane_CH4_kg\",\n",
    "        \"Nitrous_oxide_N2O_kg\",\n",
    "        \"Biodiversity_impact\",\n",
    "        \"Agricultural_water_usage_m3\",\n",
    "        \"Acidification_potential\"\n",
    "    ],\n",
    "    var_name=\"Indicator\",\n",
    "    value_name=\"Impact\"\n",
    ")\n",
    "\n",
    "df_grouped = df_melted.groupby([\"diet_type\", \"Indicator\"]).sum().reset_index()\n",
    "\n",
    "df_grouped[\"Label\"] = df_grouped[\"diet_type\"] + \" - \" + df_grouped[\"Indicator\"]\n",
    "\n",
    "fig = px.treemap(\n",
    "    df_grouped,\n",
    "    path=[\"diet_type\", \"Indicator\"],\n",
    "    values=\"Impact\",\n",
    "    color=\"Impact\",\n",
    "    color_continuous_scale=\"Plasma\",\n",
    "    title=\"Environmental Impact Treemap by Diet Group and Indicator\",\n",
    "    hover_data={\n",
    "        \"Impact\": True,\n",
    "        \"diet_type\": True,\n",
    "        \"Indicator\": True\n",
    "    }\n",
    ")\n",
    "\n",
    "fig.update_traces(\n",
    "    textinfo=\"label+value\",  \n",
    "    hovertemplate='<b>%{label}</b><br>Impact: %{value:.2f}<extra></extra>'\n",
    ")\n",
    "\n",
    "fig.update_layout(\n",
    "    title_font_size=22,\n",
    "    margin=dict(t=50, l=25, r=25, b=25),\n",
    "    uniformtext=dict(minsize=10, mode='show'),\n",
    "    width=1000,\n",
    "    height=400\n",
    ")\n",
    "\n",
    "pio.write_html(fig, file=\"C:/Users/txy18/Desktop/treemap_diet.html\", auto_open=False)\n",
    "\n",
    "fig.show()\n"
   ]
  },
  {
   "cell_type": "markdown",
   "id": "57bbd61e-142b-4db4-b127-153ebc19b130",
   "metadata": {},
   "source": [
    "### Supplementary diagram - heat map"
   ]
  },
  {
   "cell_type": "code",
   "execution_count": 4,
   "id": "9cf9cd8f-f325-4251-8b51-dbd8632aabcf",
   "metadata": {},
   "outputs": [
    {
     "data": {
      "image/png": "[encoded data removed]",
      "text/plain": [
       "<Figure size 1000x600 with 2 Axes>"
      ]
     },
     "metadata": {},
     "output_type": "display_data"
    }
   ],
   "source": [
    "import pandas as pd\n",
    "import matplotlib.pyplot as plt\n",
    "import seaborn as sns\n",
    "from sklearn.preprocessing import MinMaxScaler\n",
    "\n",
    "file_path = \"C:/Users/txy18/Desktop/Research method coursework2/Results_21MAR2022_nokcaladjust.csv\"\n",
    "df = pd.read_csv(file_path)\n",
    "\n",
    "df_cleaned = df.drop(columns=[\"mc_run_id\"], errors=\"ignore\")\n",
    "\n",
    "df_cleaned[\"total_impact\"] = (\n",
    "    df_cleaned[\"mean_ghgs\"] + df_cleaned[\"mean_land\"] + df_cleaned[\"mean_watscar\"] +\n",
    "    df_cleaned[\"mean_eut\"] + df_cleaned[\"mean_ghgs_ch4\"] + df_cleaned[\"mean_ghgs_n2o\"] +\n",
    "    df_cleaned[\"mean_bio\"] + df_cleaned[\"mean_watuse\"] + df_cleaned[\"mean_acid\"]\n",
    ")\n",
    "\n",
    "columns_to_normalize = [\n",
    "    \"mean_ghgs\", \"mean_land\", \"mean_watscar\", \"mean_eut\",\n",
    "    \"mean_ghgs_ch4\", \"mean_ghgs_n2o\", \"mean_bio\", \"mean_watuse\",\n",
    "    \"mean_acid\", \"total_impact\"\n",
    "]\n",
    "scaler = MinMaxScaler()\n",
    "df_cleaned[columns_to_normalize] = scaler.fit_transform(df_cleaned[columns_to_normalize])\n",
    "\n",
    "df_final = df_cleaned.rename(columns={\n",
    "    \"grouping\": \"participant_id\",\n",
    "    \"diet_group\": \"diet_type\",\n",
    "    \"sex\": \"gender\",\n",
    "    \"age_group\": \"age_group\",\n",
    "    \"mean_ghgs\": \"GHG_emissions_kgCO2e\",\n",
    "    \"mean_land\": \"Agricultural_land_use_m2\",\n",
    "    \"mean_watscar\": \"Water_scarcity_impact\",\n",
    "    \"mean_eut\": \"Eutrophication_potential_gPO4e\",\n",
    "    \"mean_ghgs_ch4\": \"Methane_CH4_kg\",\n",
    "    \"mean_ghgs_n2o\": \"Nitrous_oxide_N2O_kg\",\n",
    "    \"mean_bio\": \"Biodiversity_impact\",\n",
    "    \"mean_watuse\": \"Agricultural_water_usage_m3\",\n",
    "    \"mean_acid\": \"Acidification_potential\"\n",
    "})\n",
    "\n",
    "df_final = df_final[[\n",
    "    \"participant_id\", \"diet_type\", \"gender\", \"age_group\",\n",
    "    \"GHG_emissions_kgCO2e\", \"Agricultural_land_use_m2\", \"Water_scarcity_impact\",\n",
    "    \"Eutrophication_potential_gPO4e\", \"Methane_CH4_kg\", \"Nitrous_oxide_N2O_kg\",\n",
    "    \"Biodiversity_impact\", \"Agricultural_water_usage_m3\", \"Acidification_potential\"\n",
    "]]\n",
    "\n",
    "\n",
    "grouped = df_final.groupby([\"age_group\", \"diet_type\"]).mean(numeric_only=True).reset_index()\n",
    "\n",
    "target_column = \"GHG_emissions_kgCO2e\"\n",
    "heat_data = grouped.pivot(index=\"age_group\", columns=\"diet_type\", values=target_column)\n",
    "\n",
    "plt.figure(figsize=(10, 6))\n",
    "sns.heatmap(heat_data, annot=True, cmap=\"coolwarm\", cbar_kws={\"label\": target_column})\n",
    "plt.title(f\"Heatmap of {target_column} by Age Group and Diet Type\", fontsize=16)\n",
    "plt.ylabel(\"Age Group\")\n",
    "plt.xlabel(\"Diet Type\")\n",
    "plt.xticks(rotation=45)\n",
    "plt.yticks(rotation=0)\n",
    "plt.tight_layout()\n",
    "plt.show()\n"
   ]
  }
 ],
 "metadata": {
  "kernelspec": {
   "display_name": "Python 3 (ipykernel)",
   "language": "python",
   "name": "python3"
  },
  "language_info": {
   "codemirror_mode": {
    "name": "ipython",
    "version": 3
   },
   "file_extension": ".py",
   "mimetype": "text/x-python",
   "name": "python",
   "nbconvert_exporter": "python",
   "pygments_lexer": "ipython3",
   "version": "3.12.7"
  }
 },
 "nbformat": 4,
 "nbformat_minor": 5
}
